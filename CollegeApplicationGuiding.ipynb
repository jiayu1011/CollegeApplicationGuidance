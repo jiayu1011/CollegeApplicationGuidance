{
 "cells": [
  {
   "cell_type": "markdown",
   "metadata": {},
   "source": [
    "# 高考志愿填报指导"
   ]
  },
  {
   "cell_type": "code",
   "execution_count": 1,
   "metadata": {},
   "outputs": [],
   "source": [
    "import numpy as np\n",
    "import pandas as pd\n",
    "import os"
   ]
  },
  {
   "cell_type": "code",
   "execution_count": 2,
   "metadata": {},
   "outputs": [],
   "source": [
    "scoreRank2021DataPath = './data/2021年广东省高考普通类（物理）一分一段数据.txt'"
   ]
  },
  {
   "cell_type": "code",
   "execution_count": 3,
   "metadata": {},
   "outputs": [],
   "source": [
    "scoreRank2021Data = {}\n",
    "with open(scoreRank2021DataPath, 'r', encoding='utf-16') as f2021:\n",
    "    linecount = 0\n",
    "    columns = []\n",
    "    while True:\n",
    "        line = f2021.readline()\n",
    "        linecount += 1\n",
    "        if not line:\n",
    "            break\n",
    "        rowDataArr = line.strip().split('\\t')\n",
    "\n",
    "        if linecount==2:    \n",
    "            columns = rowDataArr\n",
    "            for (index, item) in enumerate(columns):\n",
    "                scoreRank2021Data[item] = []   \n",
    "        elif linecount>2:\n",
    "            \n",
    "            if not line.strip():\n",
    "                continue\n",
    "            for (index, item) in enumerate(rowDataArr):\n",
    "                scoreRank2021Data[columns[index]].append(item)   \n",
    "    "
   ]
  },
  {
   "cell_type": "code",
   "execution_count": 4,
   "metadata": {},
   "outputs": [],
   "source": [
    "df_scoreRank2021 = pd.DataFrame(data=scoreRank2021Data)"
   ]
  },
  {
   "cell_type": "code",
   "execution_count": 5,
   "metadata": {
    "scrolled": true
   },
   "outputs": [
    {
     "data": {
      "text/html": [
       "<div>\n",
       "<style scoped>\n",
       "    .dataframe tbody tr th:only-of-type {\n",
       "        vertical-align: middle;\n",
       "    }\n",
       "\n",
       "    .dataframe tbody tr th {\n",
       "        vertical-align: top;\n",
       "    }\n",
       "\n",
       "    .dataframe thead th {\n",
       "        text-align: right;\n",
       "    }\n",
       "</style>\n",
       "<table border=\"1\" class=\"dataframe\">\n",
       "  <thead>\n",
       "    <tr style=\"text-align: right;\">\n",
       "      <th></th>\n",
       "      <th>分数段</th>\n",
       "      <th>人数</th>\n",
       "      <th>累计</th>\n",
       "    </tr>\n",
       "  </thead>\n",
       "  <tbody>\n",
       "    <tr>\n",
       "      <th>0</th>\n",
       "      <td>695</td>\n",
       "      <td>24</td>\n",
       "      <td>24</td>\n",
       "    </tr>\n",
       "    <tr>\n",
       "      <th>1</th>\n",
       "      <td>694</td>\n",
       "      <td>5</td>\n",
       "      <td>29</td>\n",
       "    </tr>\n",
       "    <tr>\n",
       "      <th>2</th>\n",
       "      <td>693</td>\n",
       "      <td>8</td>\n",
       "      <td>37</td>\n",
       "    </tr>\n",
       "    <tr>\n",
       "      <th>3</th>\n",
       "      <td>692</td>\n",
       "      <td>7</td>\n",
       "      <td>44</td>\n",
       "    </tr>\n",
       "    <tr>\n",
       "      <th>4</th>\n",
       "      <td>691</td>\n",
       "      <td>10</td>\n",
       "      <td>54</td>\n",
       "    </tr>\n",
       "    <tr>\n",
       "      <th>...</th>\n",
       "      <td>...</td>\n",
       "      <td>...</td>\n",
       "      <td>...</td>\n",
       "    </tr>\n",
       "    <tr>\n",
       "      <th>591</th>\n",
       "      <td>104</td>\n",
       "      <td>3</td>\n",
       "      <td>337978</td>\n",
       "    </tr>\n",
       "    <tr>\n",
       "      <th>592</th>\n",
       "      <td>103</td>\n",
       "      <td>4</td>\n",
       "      <td>337982</td>\n",
       "    </tr>\n",
       "    <tr>\n",
       "      <th>593</th>\n",
       "      <td>102</td>\n",
       "      <td>2</td>\n",
       "      <td>337984</td>\n",
       "    </tr>\n",
       "    <tr>\n",
       "      <th>594</th>\n",
       "      <td>101</td>\n",
       "      <td>3</td>\n",
       "      <td>337987</td>\n",
       "    </tr>\n",
       "    <tr>\n",
       "      <th>595</th>\n",
       "      <td>100</td>\n",
       "      <td>1</td>\n",
       "      <td>337988</td>\n",
       "    </tr>\n",
       "  </tbody>\n",
       "</table>\n",
       "<p>596 rows × 3 columns</p>\n",
       "</div>"
      ],
      "text/plain": [
       "     分数段  人数      累计\n",
       "0    695  24      24\n",
       "1    694   5      29\n",
       "2    693   8      37\n",
       "3    692   7      44\n",
       "4    691  10      54\n",
       "..   ...  ..     ...\n",
       "591  104   3  337978\n",
       "592  103   4  337982\n",
       "593  102   2  337984\n",
       "594  101   3  337987\n",
       "595  100   1  337988\n",
       "\n",
       "[596 rows x 3 columns]"
      ]
     },
     "execution_count": 5,
     "metadata": {},
     "output_type": "execute_result"
    }
   ],
   "source": [
    "# 2021年分数-排位数据\n",
    "df_scoreRank2021"
   ]
  },
  {
   "cell_type": "code",
   "execution_count": null,
   "metadata": {},
   "outputs": [],
   "source": []
  },
  {
   "cell_type": "code",
   "execution_count": 6,
   "metadata": {},
   "outputs": [
    {
     "name": "stdout",
     "output_type": "stream",
     "text": [
      "请输入您的分数或排名:(xxx分/xxx名)600分\n"
     ]
    }
   ],
   "source": [
    "scoreOrRank = input('请输入您的分数或排名:(xxx分/xxx名)')"
   ]
  },
  {
   "cell_type": "code",
   "execution_count": 13,
   "metadata": {},
   "outputs": [
    {
     "name": "stdout",
     "output_type": "stream",
     "text": [
      "对应排位为:23749\n"
     ]
    }
   ],
   "source": [
    "score = 0\n",
    "rank = 0\n",
    "\n",
    "# 均转化成排位来计算\n",
    "if scoreOrRank[-1:]=='分':\n",
    "    score = scoreOrRank[:-1]\n",
    "    rank = int(df_scoreRank2021[df_scoreRank2021['分数段']==score]['累计'].tolist()[0])\n",
    "    print('对应排位为:%d' % rank)\n",
    "elif scoreOrRank[-1:]=='名':\n",
    "    rank = int(scoreOrRank[:-1])\n",
    "    print('对应排位为:%d' % rank)\n",
    "    \n",
    "else:\n",
    "    print('输入有误')\n",
    "    exit(0)"
   ]
  },
  {
   "cell_type": "code",
   "execution_count": null,
   "metadata": {},
   "outputs": [],
   "source": []
  },
  {
   "cell_type": "code",
   "execution_count": null,
   "metadata": {},
   "outputs": [],
   "source": []
  },
  {
   "cell_type": "code",
   "execution_count": null,
   "metadata": {},
   "outputs": [],
   "source": []
  }
 ],
 "metadata": {
  "kernelspec": {
   "display_name": "Python 3",
   "language": "python",
   "name": "python3"
  },
  "language_info": {
   "codemirror_mode": {
    "name": "ipython",
    "version": 3
   },
   "file_extension": ".py",
   "mimetype": "text/x-python",
   "name": "python",
   "nbconvert_exporter": "python",
   "pygments_lexer": "ipython3",
   "version": "3.8.5"
  }
 },
 "nbformat": 4,
 "nbformat_minor": 4
}
